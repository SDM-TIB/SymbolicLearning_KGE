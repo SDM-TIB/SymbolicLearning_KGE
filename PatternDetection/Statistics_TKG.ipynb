{
 "cells": [
  {
   "cell_type": "code",
   "execution_count": 1,
   "id": "f6fa5cf0",
   "metadata": {},
   "outputs": [],
   "source": [
    "from rdflib import Graph\n",
    "import matplotlib.pyplot as plt\n",
    "import pandas as pd\n",
    "import math"
   ]
  },
  {
   "cell_type": "markdown",
   "id": "4f3bb8d9",
   "metadata": {},
   "source": [
    "### Load Tretament Graphs"
   ]
  },
  {
   "cell_type": "code",
   "execution_count": 2,
   "id": "f818ea14",
   "metadata": {},
   "outputs": [
    {
     "data": {
      "text/plain": [
       "<Graph identifier=Nc7dfb34455e14452a793b78de166563b (<class 'rdflib.graph.Graph'>)>"
      ]
     },
     "execution_count": 2,
     "metadata": {},
     "output_type": "execute_result"
    }
   ],
   "source": [
    "g = Graph()\n",
    "g.parse('../KG/'+name+'/LungCancer.nt', format=\"nt\")"
   ]
  },
  {
   "cell_type": "code",
   "execution_count": 3,
   "id": "a41c89c7",
   "metadata": {},
   "outputs": [],
   "source": [
    "from rdflib.plugins.sparql.processor import SPARQLResult\n",
    "\n",
    "def sparql_results_to_df(results: SPARQLResult) -> pd.DataFrame:\n",
    "    \"\"\"\n",
    "    Export results from an rdflib SPARQL query into a `pandas.DataFrame`,\n",
    "    using Python types. See https://github.com/RDFLib/rdflib/issues/1179.\n",
    "    \"\"\"\n",
    "    return pd.DataFrame(\n",
    "        data=([None if x is None else x.toPython() for x in row] for row in results),\n",
    "        columns=[str(x) for x in results.vars],\n",
    "    )"
   ]
  },
  {
   "cell_type": "code",
   "execution_count": 4,
   "id": "456d7f84",
   "metadata": {},
   "outputs": [],
   "source": [
    "def cardinality_relation(graph, relation):\n",
    "    query = \"\"\"\n",
    "    select (count(?s) as ?count)\n",
    "    where {\n",
    "        ?s <\"\"\" + relation + \"\"\"> ?o\n",
    "        }\n",
    "        \"\"\"\n",
    "    qres = graph.query(query)\n",
    "    cardinality = sparql_results_to_df(qres)\n",
    "    return cardinality.iloc[0][0]\n",
    "\n",
    "\n",
    "def cardinality_entity(graph, entity):\n",
    "    query = \"\"\"\n",
    "    select (count(?s) as ?count)\n",
    "    where {\n",
    "        ?s ?p <\"\"\" + entity + \"\"\">\n",
    "        }\n",
    "        \"\"\"\n",
    "    qres = graph.query(query)\n",
    "    cardinality = sparql_results_to_df(qres).iloc[0][0]\n",
    "    \n",
    "    query = \"\"\"\n",
    "    select (count(?o) as ?count)\n",
    "    where {\n",
    "        <\"\"\" + entity + \"\"\"> ?p ?o\n",
    "        }\n",
    "        \"\"\"\n",
    "    qres = graph.query(query)\n",
    "    cardinality += sparql_results_to_df(qres).iloc[0][0]\n",
    "    return cardinality\n",
    "\n",
    "\n",
    "def probability_relation(graph, r):\n",
    "    cardinality  = cardinality_relation(graph, r)\n",
    "    return cardinality / len(graph)\n",
    "\n",
    "\n",
    "def probability_entity(graph, e):\n",
    "    cardinality  = cardinality_entity(graph, e)\n",
    "    return cardinality / len(graph)\n",
    "\n",
    "\n",
    "def get_triples(graph):\n",
    "    query = \"\"\"    \n",
    "    select distinct ?s ?predicate ?object\n",
    "    where {\n",
    "        ?s ?predicate ?object\n",
    "        }\n",
    "        \"\"\"\n",
    "    qres = graph.query(query)\n",
    "    triples = sparql_results_to_df(qres)\n",
    "    return triples\n",
    "\n",
    "\n",
    "def list_relation(triples):\n",
    "    return list(triples.predicate.unique())\n",
    "\n",
    "\n",
    "def list_entity(triples):\n",
    "    entity = set(list(triples.s.unique()) + list(triples.object.unique()))\n",
    "    return entity\n",
    "\n",
    "\n",
    "def relation_entropy(graph, relation):\n",
    "    RE = 0\n",
    "    for r in relation:\n",
    "        p_r = probability_relation(graph, r)\n",
    "        val = -p_r*math.log(p_r)\n",
    "        RE += val\n",
    "    return RE\n",
    "\n",
    "\n",
    "def entity_entropy(graph, entity):\n",
    "    EE = 0\n",
    "    for e in entity:\n",
    "        p_e = probability_entity(graph, e)\n",
    "        val = -p_e*math.log(p_e)\n",
    "        EE += val\n",
    "    return EE\n",
    "\n",
    "\n",
    "def relational_density(graph, relation):\n",
    "    return len(graph) / len(relation)\n",
    "\n",
    "\n",
    "def entity_density(graph, entity):\n",
    "    return 2 * len(graph) / len(entity)"
   ]
  },
  {
   "cell_type": "code",
   "execution_count": 12,
   "id": "b421f649",
   "metadata": {},
   "outputs": [
    {
     "data": {
      "image/png": "[encoded data removed]",
      "text/plain": [
       "<Figure size 800x600 with 1 Axes>"
      ]
     },
     "metadata": {},
     "output_type": "display_data"
    }
   ],
   "source": [
    "def plot_statistics(name):\n",
    "    g = Graph()\n",
    "    g.parse('../KG/'+name+'/LungCancer.nt', format=\"nt\")\n",
    "    triples = get_triples(g)\n",
    "    relation = list_relation(triples)\n",
    "    entity = list_entity(triples)\n",
    "    categories = ['Triples', 'Relations', 'Entities']\n",
    "    values = [triples.shape[0], len(relation), len(entity)]\n",
    "\n",
    "    plt.figure(figsize=(8, 6))\n",
    "    plt.bar(categories, values, color=['blue', 'green', 'red'])\n",
    "#     plt.xlabel('Categories')\n",
    "    plt.ylabel('Amount')\n",
    "    plt.title('Statistics of '+name)\n",
    "    plt.show()"
   ]
  }
 ],
 "metadata": {
  "kernelspec": {
   "display_name": "Python 3 (ipykernel)",
   "language": "python",
   "name": "python3"
  },
  "language_info": {
   "codemirror_mode": {
    "name": "ipython",
    "version": 3
   },
   "file_extension": ".py",
   "mimetype": "text/x-python",
   "name": "python",
   "nbconvert_exporter": "python",
   "pygments_lexer": "ipython3",
   "version": "3.11.4"
  }
 },
 "nbformat": 4,
 "nbformat_minor": 5
}
