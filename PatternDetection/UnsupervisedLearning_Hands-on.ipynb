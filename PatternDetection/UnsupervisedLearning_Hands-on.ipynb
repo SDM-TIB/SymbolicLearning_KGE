{
 "cells": [
  {
   "cell_type": "markdown",
   "id": "87d2910c",
   "metadata": {},
   "source": [
    "# **Empowering Healthcare with Symbolic Learning and Knowledge Graph Embeddings**"
   ]
  },
  {
   "cell_type": "markdown",
   "id": "5da15c67",
   "metadata": {},
   "source": [
    "![Desing Pattern](https://github.com/SDM-TIB/HyAI/assets/25593410/42cf771d-b82d-4097-b0f7-0ceb3581b171)"
   ]
  },
  {
   "cell_type": "markdown",
   "id": "0ebdc7fe",
   "metadata": {},
   "source": [
    "## **Pattern Detection, Analysis and Explanation over P4-LUCAT Knowledge Graph**\n",
    "\n",
    ">> **Pattern Detection. Unsupervised learning**\n",
    "*   Learned embeddings of the entities in the Knowledge Graph\n",
    "*   Apply community detection Algorithms: SemEP, KMeans\n",
    "*   Compute the quality of the communities generated\n",
    "*   Generate Radar-plots \n",
    "*   Visualize PCA Projection to 2D of the detected cummunities\n"
   ]
  },
  {
   "cell_type": "markdown",
   "id": "0e5a1d19",
   "metadata": {},
   "source": [
    "Git clone"
   ]
  },
  {
   "cell_type": "code",
   "execution_count": null,
   "id": "877fc76a",
   "metadata": {},
   "outputs": [],
   "source": [
    "!git clone https://github.com/SDM-TIB/SymbolicLearning_KGE.git\n",
    "%cd SymbolicLearning_KGE/PatternDetection"
   ]
  },
  {
   "cell_type": "code",
   "execution_count": null,
   "id": "15629c2f",
   "metadata": {},
   "outputs": [],
   "source": [
    "import ComputeCommunities as SemCD\n",
    "import EvaluationMetric"
   ]
  },
  {
   "cell_type": "markdown",
   "id": "1669a90b",
   "metadata": {},
   "source": [
    "**Clean the build**"
   ]
  },
  {
   "cell_type": "code",
   "execution_count": null,
   "id": "55a10d3b",
   "metadata": {},
   "outputs": [],
   "source": [
    "!make clean"
   ]
  },
  {
   "cell_type": "markdown",
   "id": "14745c88",
   "metadata": {},
   "source": [
    "**Build the project**"
   ]
  },
  {
   "cell_type": "code",
   "execution_count": null,
   "id": "d7b43c07",
   "metadata": {},
   "outputs": [],
   "source": [
    "!make"
   ]
  },
  {
   "cell_type": "markdown",
   "id": "19bdffb2",
   "metadata": {},
   "source": [
    "## Run the semEP-node"
   ]
  },
  {
   "cell_type": "markdown",
   "id": "5b202b53",
   "metadata": {},
   "source": [
    "**Parameter input**"
   ]
  },
  {
   "cell_type": "code",
   "execution_count": null,
   "id": "05742733",
   "metadata": {},
   "outputs": [],
   "source": [
    "model_list = ['TransH', 'RotatE']\n",
    "threshold = [35, 36, 37, 64, 65]\n",
    "kg_name = 'TransformedKG'\n",
    "target_predicate = 'hasRelapse_Progression'"
   ]
  },
  {
   "cell_type": "code",
   "execution_count": null,
   "id": "59c2fe7e",
   "metadata": {
    "scrolled": true
   },
   "outputs": [],
   "source": [
    "SemCD.run(kg_name=kg_name, target_predicate=target_predicate,\n",
    "          model_list=model_list, threshold=threshold)"
   ]
  },
  {
   "cell_type": "markdown",
   "id": "f96a549d",
   "metadata": {},
   "source": [
    "## Quality of the generated communities "
   ]
  },
  {
   "cell_type": "markdown",
   "id": "f474aa00",
   "metadata": {},
   "source": [
    "Moving to clusteringMeasures folder "
   ]
  },
  {
   "cell_type": "code",
   "execution_count": null,
   "id": "1d146026",
   "metadata": {},
   "outputs": [],
   "source": [
    "%cd clusteringMeasures"
   ]
  },
  {
   "cell_type": "markdown",
   "id": "f4d57567",
   "metadata": {},
   "source": [
    "**Clean the build**"
   ]
  },
  {
   "cell_type": "code",
   "execution_count": null,
   "id": "33a74b38",
   "metadata": {},
   "outputs": [],
   "source": [
    "!make clean"
   ]
  },
  {
   "cell_type": "markdown",
   "id": "0c353dca",
   "metadata": {},
   "source": [
    "**Build the project**"
   ]
  },
  {
   "cell_type": "code",
   "execution_count": null,
   "id": "f7c49768",
   "metadata": {},
   "outputs": [],
   "source": [
    "!make"
   ]
  },
  {
   "cell_type": "markdown",
   "id": "4618ba81",
   "metadata": {},
   "source": [
    "**Compute Metrices**"
   ]
  },
  {
   "cell_type": "code",
   "execution_count": null,
   "id": "0d27eb2e",
   "metadata": {},
   "outputs": [],
   "source": [
    "import ComputeMetrices\n",
    "ComputeMetrices.run(model_list, threshold)"
   ]
  },
  {
   "cell_type": "markdown",
   "id": "fb994411",
   "metadata": {},
   "source": [
    "**Generate Radar Plot**"
   ]
  },
  {
   "cell_type": "code",
   "execution_count": null,
   "id": "4af81c70",
   "metadata": {},
   "outputs": [],
   "source": [
    "%cd ../\n",
    "EvaluationMetric.GenerateRadarPlot(model_list, threshold)"
   ]
  },
  {
   "cell_type": "markdown",
   "id": "a698b6fa",
   "metadata": {},
   "source": [
    "# Analysis and Explanation over P4-LUCAT Knowledge Graph"
   ]
  },
  {
   "cell_type": "code",
   "execution_count": null,
   "id": "a49d0be6",
   "metadata": {},
   "outputs": [],
   "source": [
    "%cd ../PatternAnalysisExplanation\n",
    "import PatternAnalysis"
   ]
  },
  {
   "cell_type": "markdown",
   "id": "d4375240",
   "metadata": {},
   "source": [
    "**Targeting the clusters with the '*target_predicate*' selected**"
   ]
  },
  {
   "cell_type": "code",
   "execution_count": null,
   "id": "41b1b3f0",
   "metadata": {},
   "outputs": [],
   "source": [
    "target_cls = PatternAnalysis.target_cluster(kg_name, model_list[1], target_predicate, 'SemEP', threshold[3])\n",
    "display(target_cls.head(), target_cls.shape)"
   ]
  },
  {
   "cell_type": "code",
   "execution_count": null,
   "id": "a0f77d8b",
   "metadata": {},
   "outputs": [],
   "source": []
  },
  {
   "cell_type": "code",
   "execution_count": null,
   "id": "791a2d67",
   "metadata": {},
   "outputs": [],
   "source": [
    "df = target_cls[['Relapse', 'cluster']]\n",
    "q = df.groupby(['Relapse', 'cluster']).size().reset_index(name='count_values')\n",
    "# Display the resulting dataframe\n",
    "df_reset = q.reset_index(drop=True)\n",
    "df_reset"
   ]
  },
  {
   "cell_type": "code",
   "execution_count": null,
   "id": "9db7e608",
   "metadata": {},
   "outputs": [],
   "source": [
    "a = df_reset.loc[df_reset.Relapse=='No relapse']\n",
    "b = df_reset.loc[df_reset.Relapse=='Relapse']\n",
    "c = df_reset.loc[df_reset.Relapse=='UnKnown']\n",
    "a.count_values = a.count_values/246\n",
    "b.count_values = b.count_values/716\n",
    "c.count_values = c.count_values/280\n",
    "\n",
    "df_reset = pd.concat([a, b, c])\n",
    "df_reset"
   ]
  },
  {
   "cell_type": "markdown",
   "id": "c6319dec",
   "metadata": {},
   "source": [
    "### Visualization"
   ]
  },
  {
   "cell_type": "code",
   "execution_count": null,
   "id": "e857c9e5",
   "metadata": {},
   "outputs": [],
   "source": [
    "catplot(df_reset, model_list[1])"
   ]
  }
 ],
 "metadata": {
  "kernelspec": {
   "display_name": "Python 3 (ipykernel)",
   "language": "python",
   "name": "python3"
  },
  "language_info": {
   "codemirror_mode": {
    "name": "ipython",
    "version": 3
   },
   "file_extension": ".py",
   "mimetype": "text/x-python",
   "name": "python",
   "nbconvert_exporter": "python",
   "pygments_lexer": "ipython3",
   "version": "3.11.4"
  }
 },
 "nbformat": 4,
 "nbformat_minor": 5
}
