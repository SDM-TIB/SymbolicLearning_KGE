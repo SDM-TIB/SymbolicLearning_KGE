{
 "cells": [
  {
   "cell_type": "markdown",
   "id": "87d2910c",
   "metadata": {},
   "source": [
    "# Empowering Healthcare with Symbolic Learning and Knowledge Graph Embeddings"
   ]
  },
  {
   "cell_type": "markdown",
   "id": "5da15c67",
   "metadata": {},
   "source": [
    "![Desing Pattern](https://github.com/SDM-TIB/HyAI/assets/25593410/42cf771d-b82d-4097-b0f7-0ceb3581b171)"
   ]
  },
  {
   "cell_type": "markdown",
   "id": "0ebdc7fe",
   "metadata": {},
   "source": [
    "## **Pattern Detection, Analysis and Explanation over P4-LUCAT Knowledge Graph**\n",
    "\n",
    "> Unsupervised learning\n",
    "*   Save Learned Embeddings\n",
    "*   Apply cluster Algorithm: KMeans\n",
    "*   Select the optimal number of clusters\n",
    "*   Visualize PCA Projection to 2D\n"
   ]
  },
  {
   "cell_type": "markdown",
   "id": "0e5a1d19",
   "metadata": {},
   "source": [
    "Git clone"
   ]
  },
  {
   "cell_type": "code",
   "execution_count": null,
   "id": "877fc76a",
   "metadata": {},
   "outputs": [],
   "source": [
    "!git clone https://github.com/SDM-TIB/SymbolicLearning_KGE.git\n",
    "%cd SymbolicLearning_KGE/PatternDetection"
   ]
  },
  {
   "cell_type": "code",
   "execution_count": null,
   "id": "15629c2f",
   "metadata": {},
   "outputs": [],
   "source": [
    "import ComputeCommunities as SemCD"
   ]
  },
  {
   "cell_type": "markdown",
   "id": "1669a90b",
   "metadata": {},
   "source": [
    "**Clean the build**"
   ]
  },
  {
   "cell_type": "code",
   "execution_count": null,
   "id": "55a10d3b",
   "metadata": {},
   "outputs": [],
   "source": [
    "!make clean"
   ]
  },
  {
   "cell_type": "markdown",
   "id": "14745c88",
   "metadata": {},
   "source": [
    "**Build the project**"
   ]
  },
  {
   "cell_type": "code",
   "execution_count": null,
   "id": "d7b43c07",
   "metadata": {},
   "outputs": [],
   "source": [
    "!make"
   ]
  },
  {
   "cell_type": "markdown",
   "id": "19bdffb2",
   "metadata": {},
   "source": [
    "### Run the semEP-node"
   ]
  },
  {
   "cell_type": "markdown",
   "id": "5b202b53",
   "metadata": {},
   "source": [
    "**Parameter input**"
   ]
  },
  {
   "cell_type": "code",
   "execution_count": null,
   "id": "05742733",
   "metadata": {},
   "outputs": [],
   "source": [
    "model_list = ['TransH', 'RotatE']\n",
    "threshold = [30, 40, 50, 60, 70, 80]\n",
    "kg_name = 'OriginalKG'\n",
    "target_predicate = 'hasRelapse_Progression'"
   ]
  },
  {
   "cell_type": "code",
   "execution_count": null,
   "id": "59c2fe7e",
   "metadata": {
    "scrolled": true
   },
   "outputs": [],
   "source": [
    "SemCD.run(kg_name=kg_name, target_predicate=target_predicate,\n",
    "          model_list=model_list, threshold=threshold)"
   ]
  },
  {
   "cell_type": "markdown",
   "id": "57d89f81",
   "metadata": {},
   "source": [
    "# Quality of the generated communities "
   ]
  },
  {
   "cell_type": "markdown",
   "id": "748e345b",
   "metadata": {},
   "source": [
    "Moving to folder"
   ]
  },
  {
   "cell_type": "code",
   "execution_count": null,
   "id": "1d146026",
   "metadata": {},
   "outputs": [],
   "source": [
    "%cd clusteringMeasures"
   ]
  },
  {
   "cell_type": "markdown",
   "id": "89683579",
   "metadata": {},
   "source": [
    "**Clean the build**"
   ]
  },
  {
   "cell_type": "code",
   "execution_count": null,
   "id": "77d9bc36",
   "metadata": {},
   "outputs": [],
   "source": [
    "!make clean"
   ]
  },
  {
   "cell_type": "markdown",
   "id": "d8efe761",
   "metadata": {},
   "source": [
    "**Build the project**"
   ]
  },
  {
   "cell_type": "code",
   "execution_count": null,
   "id": "9ac58c5d",
   "metadata": {},
   "outputs": [],
   "source": [
    "!make"
   ]
  },
  {
   "cell_type": "code",
   "execution_count": null,
   "id": "fedaf4e0",
   "metadata": {},
   "outputs": [],
   "source": []
  },
  {
   "cell_type": "code",
   "execution_count": null,
   "id": "0d27eb2e",
   "metadata": {},
   "outputs": [],
   "source": [
    "computeMetric(model_list, threshold)"
   ]
  }
 ],
 "metadata": {
  "kernelspec": {
   "display_name": "Python 3 (ipykernel)",
   "language": "python",
   "name": "python3"
  },
  "language_info": {
   "codemirror_mode": {
    "name": "ipython",
    "version": 3
   },
   "file_extension": ".py",
   "mimetype": "text/x-python",
   "name": "python",
   "nbconvert_exporter": "python",
   "pygments_lexer": "ipython3",
   "version": "3.11.4"
  }
 },
 "nbformat": 4,
 "nbformat_minor": 5
}
