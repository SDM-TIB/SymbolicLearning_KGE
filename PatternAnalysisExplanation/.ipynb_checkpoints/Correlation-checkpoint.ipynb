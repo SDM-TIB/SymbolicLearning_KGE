{
 "cells": [
  {
   "cell_type": "code",
   "execution_count": 1,
   "id": "c6e0940f",
   "metadata": {},
   "outputs": [],
   "source": [
    "import pandas as pd\n",
    "import numpy as np\n",
    "import seaborn as sns\n",
    "import matplotlib.pyplot as plt\n",
    "from rdflib import Graph\n",
    "from rdflib.plugins.sparql.processor import SPARQLResult\n",
    "\n",
    "def sparql_results_to_df(results: SPARQLResult) -> pd.DataFrame:\n",
    "    \"\"\"\n",
    "    Export results from an rdflib SPARQL query into a `pandas.DataFrame`,\n",
    "    using Python types. See https://github.com/RDFLib/rdflib/issues/1179.\n",
    "    \"\"\"\n",
    "    return pd.DataFrame(\n",
    "        data=([None if x is None else x.toPython() for x in row] for row in results),\n",
    "        columns=[str(x) for x in results.vars],\n",
    "    )"
   ]
  },
  {
   "cell_type": "code",
   "execution_count": 2,
   "id": "335283bd",
   "metadata": {},
   "outputs": [
    {
     "data": {
      "text/html": [
       "<div>\n",
       "<style scoped>\n",
       "    .dataframe tbody tr th:only-of-type {\n",
       "        vertical-align: middle;\n",
       "    }\n",
       "\n",
       "    .dataframe tbody tr th {\n",
       "        vertical-align: top;\n",
       "    }\n",
       "\n",
       "    .dataframe thead th {\n",
       "        text-align: right;\n",
       "    }\n",
       "</style>\n",
       "<table border=\"1\" class=\"dataframe\">\n",
       "  <thead>\n",
       "    <tr style=\"text-align: right;\">\n",
       "      <th></th>\n",
       "      <th>ClinicalRecord</th>\n",
       "      <th>Relapse</th>\n",
       "    </tr>\n",
       "  </thead>\n",
       "  <tbody>\n",
       "    <tr>\n",
       "      <th>0</th>\n",
       "      <td>718710_ClinicalRecord</td>\n",
       "      <td>No relapse</td>\n",
       "    </tr>\n",
       "    <tr>\n",
       "      <th>1</th>\n",
       "      <td>2432630_ClinicalRecord</td>\n",
       "      <td>Relapse</td>\n",
       "    </tr>\n",
       "    <tr>\n",
       "      <th>2</th>\n",
       "      <td>583611_ClinicalRecord</td>\n",
       "      <td>No relapse</td>\n",
       "    </tr>\n",
       "    <tr>\n",
       "      <th>3</th>\n",
       "      <td>329355_ClinicalRecord</td>\n",
       "      <td>Relapse</td>\n",
       "    </tr>\n",
       "    <tr>\n",
       "      <th>4</th>\n",
       "      <td>760472_ClinicalRecord</td>\n",
       "      <td>Relapse</td>\n",
       "    </tr>\n",
       "  </tbody>\n",
       "</table>\n",
       "</div>"
      ],
      "text/plain": [
       "           ClinicalRecord     Relapse\n",
       "0   718710_ClinicalRecord  No relapse\n",
       "1  2432630_ClinicalRecord     Relapse\n",
       "2   583611_ClinicalRecord  No relapse\n",
       "3   329355_ClinicalRecord     Relapse\n",
       "4   760472_ClinicalRecord     Relapse"
      ]
     },
     "metadata": {},
     "output_type": "display_data"
    },
    {
     "data": {
      "text/plain": [
       "(962, 2)"
      ]
     },
     "metadata": {},
     "output_type": "display_data"
    }
   ],
   "source": [
    "data_kg = pd.read_csv('../PreprocessData/data/target.csv')\n",
    "\n",
    "data_kg = data_kg.loc[data_kg.Relapse!='entity:UnKnown']\n",
    "\n",
    "replacement_mapping_dict = {'entity:No_Progression': 'No relapse',\n",
    "                            'entity:Relapse': 'Relapse',\n",
    "                           'entity:Progression': 'Relapse'}\n",
    "data_kg['Relapse'].replace(replacement_mapping_dict, inplace=True)\n",
    "data_kg.replace('entity:', '', regex=True, inplace=True)\n",
    "\n",
    "display(data_kg.head(), data_kg.shape)"
   ]
  },
  {
   "cell_type": "code",
   "execution_count": 3,
   "id": "ecf3292d",
   "metadata": {},
   "outputs": [
    {
     "data": {
      "text/plain": [
       "<Graph identifier=Na16a0669bf2b47e9b6b6a77b7dd3b982 (<class 'rdflib.graph.Graph'>)>"
      ]
     },
     "execution_count": 3,
     "metadata": {},
     "output_type": "execute_result"
    }
   ],
   "source": [
    "path = '../../store_data/P4-LUCAT/'\n",
    "g = Graph()\n",
    "g.parse(path + \"KG0.nt\", format=\"nt\")"
   ]
  },
  {
   "cell_type": "code",
   "execution_count": 4,
   "id": "b06e3b09",
   "metadata": {},
   "outputs": [],
   "source": [
    "def get_triples(graph, query):\n",
    "    qres = graph.query(query)\n",
    "    triples = sparql_results_to_df(qres)\n",
    "    triples.replace('http://research.tib.eu/p4-lucat/entity/', '', regex=True, inplace=True)\n",
    "    return triples"
   ]
  },
  {
   "cell_type": "code",
   "execution_count": 5,
   "id": "49b9f3b3",
   "metadata": {},
   "outputs": [
    {
     "data": {
      "text/html": [
       "<div>\n",
       "<style scoped>\n",
       "    .dataframe tbody tr th:only-of-type {\n",
       "        vertical-align: middle;\n",
       "    }\n",
       "\n",
       "    .dataframe tbody tr th {\n",
       "        vertical-align: top;\n",
       "    }\n",
       "\n",
       "    .dataframe thead th {\n",
       "        text-align: right;\n",
       "    }\n",
       "</style>\n",
       "<table border=\"1\" class=\"dataframe\">\n",
       "  <thead>\n",
       "    <tr style=\"text-align: right;\">\n",
       "      <th></th>\n",
       "      <th>ClinicalRecord</th>\n",
       "      <th>Age</th>\n",
       "      <th>Gender</th>\n",
       "      <th>Biomarker</th>\n",
       "    </tr>\n",
       "  </thead>\n",
       "  <tbody>\n",
       "    <tr>\n",
       "      <th>0</th>\n",
       "      <td>2703745_ClinicalRecord</td>\n",
       "      <td>Old</td>\n",
       "      <td>Male</td>\n",
       "      <td>Yes</td>\n",
       "    </tr>\n",
       "    <tr>\n",
       "      <th>1</th>\n",
       "      <td>2717319_ClinicalRecord</td>\n",
       "      <td>Old</td>\n",
       "      <td>Female</td>\n",
       "      <td>Yes</td>\n",
       "    </tr>\n",
       "    <tr>\n",
       "      <th>2</th>\n",
       "      <td>589980_ClinicalRecord</td>\n",
       "      <td>Old</td>\n",
       "      <td>Male</td>\n",
       "      <td>Yes</td>\n",
       "    </tr>\n",
       "    <tr>\n",
       "      <th>3</th>\n",
       "      <td>2429612_ClinicalRecord</td>\n",
       "      <td>Old</td>\n",
       "      <td>Male</td>\n",
       "      <td>Yes</td>\n",
       "    </tr>\n",
       "    <tr>\n",
       "      <th>4</th>\n",
       "      <td>2789786_ClinicalRecord</td>\n",
       "      <td>Old</td>\n",
       "      <td>Male</td>\n",
       "      <td>Yes</td>\n",
       "    </tr>\n",
       "    <tr>\n",
       "      <th>...</th>\n",
       "      <td>...</td>\n",
       "      <td>...</td>\n",
       "      <td>...</td>\n",
       "      <td>...</td>\n",
       "    </tr>\n",
       "    <tr>\n",
       "      <th>542</th>\n",
       "      <td>1049197_ClinicalRecord</td>\n",
       "      <td>Young</td>\n",
       "      <td>Female</td>\n",
       "      <td>Yes</td>\n",
       "    </tr>\n",
       "    <tr>\n",
       "      <th>543</th>\n",
       "      <td>876727_ClinicalRecord</td>\n",
       "      <td>Young</td>\n",
       "      <td>Male</td>\n",
       "      <td>Yes</td>\n",
       "    </tr>\n",
       "    <tr>\n",
       "      <th>544</th>\n",
       "      <td>2682136_ClinicalRecord</td>\n",
       "      <td>Young</td>\n",
       "      <td>Male</td>\n",
       "      <td>Yes</td>\n",
       "    </tr>\n",
       "    <tr>\n",
       "      <th>545</th>\n",
       "      <td>2860649_ClinicalRecord</td>\n",
       "      <td>Young</td>\n",
       "      <td>Male</td>\n",
       "      <td>Yes</td>\n",
       "    </tr>\n",
       "    <tr>\n",
       "      <th>546</th>\n",
       "      <td>2428845_ClinicalRecord</td>\n",
       "      <td>Young</td>\n",
       "      <td>Male</td>\n",
       "      <td>Yes</td>\n",
       "    </tr>\n",
       "  </tbody>\n",
       "</table>\n",
       "<p>547 rows × 4 columns</p>\n",
       "</div>"
      ],
      "text/plain": [
       "             ClinicalRecord    Age  Gender Biomarker\n",
       "0    2703745_ClinicalRecord    Old    Male       Yes\n",
       "1    2717319_ClinicalRecord    Old  Female       Yes\n",
       "2     589980_ClinicalRecord    Old    Male       Yes\n",
       "3    2429612_ClinicalRecord    Old    Male       Yes\n",
       "4    2789786_ClinicalRecord    Old    Male       Yes\n",
       "..                      ...    ...     ...       ...\n",
       "542  1049197_ClinicalRecord  Young  Female       Yes\n",
       "543   876727_ClinicalRecord  Young    Male       Yes\n",
       "544  2682136_ClinicalRecord  Young    Male       Yes\n",
       "545  2860649_ClinicalRecord  Young    Male       Yes\n",
       "546  2428845_ClinicalRecord  Young    Male       Yes\n",
       "\n",
       "[547 rows x 4 columns]"
      ]
     },
     "execution_count": 5,
     "metadata": {},
     "output_type": "execute_result"
    }
   ],
   "source": [
    "q_biomarker = \"\"\"    \n",
    "    select distinct ?ClinicalRecord ?Age ?Gender\n",
    "    where {\n",
    "        ?ClinicalRecord <http://research.tib.eu/p4-lucat/vocab/hasBiomarker> ?Biomarker .\n",
    "        ?ClinicalRecord <http://research.tib.eu/p4-lucat/vocab/hasAgeCategory> ?Age .\n",
    "        ?ClinicalRecord <http://research.tib.eu/p4-lucat/vocab/hasGender> ?Gender .\n",
    "        }\n",
    "        \"\"\"\n",
    "biomarker = get_triples(g, q_biomarker)\n",
    "biomarker['Biomarker'] = 'Yes'\n",
    "biomarker"
   ]
  },
  {
   "cell_type": "code",
   "execution_count": 6,
   "id": "f41690a4",
   "metadata": {},
   "outputs": [
    {
     "data": {
      "text/html": [
       "<div>\n",
       "<style scoped>\n",
       "    .dataframe tbody tr th:only-of-type {\n",
       "        vertical-align: middle;\n",
       "    }\n",
       "\n",
       "    .dataframe tbody tr th {\n",
       "        vertical-align: top;\n",
       "    }\n",
       "\n",
       "    .dataframe thead th {\n",
       "        text-align: right;\n",
       "    }\n",
       "</style>\n",
       "<table border=\"1\" class=\"dataframe\">\n",
       "  <thead>\n",
       "    <tr style=\"text-align: right;\">\n",
       "      <th></th>\n",
       "      <th>ClinicalRecord</th>\n",
       "      <th>Age</th>\n",
       "      <th>Gender</th>\n",
       "      <th>Biomarker</th>\n",
       "    </tr>\n",
       "  </thead>\n",
       "  <tbody>\n",
       "    <tr>\n",
       "      <th>1</th>\n",
       "      <td>212473_ClinicalRecord</td>\n",
       "      <td>Old</td>\n",
       "      <td>Male</td>\n",
       "      <td>No</td>\n",
       "    </tr>\n",
       "    <tr>\n",
       "      <th>2</th>\n",
       "      <td>3528_ClinicalRecord</td>\n",
       "      <td>Old</td>\n",
       "      <td>Female</td>\n",
       "      <td>No</td>\n",
       "    </tr>\n",
       "    <tr>\n",
       "      <th>5</th>\n",
       "      <td>219778_ClinicalRecord</td>\n",
       "      <td>Old</td>\n",
       "      <td>Male</td>\n",
       "      <td>No</td>\n",
       "    </tr>\n",
       "    <tr>\n",
       "      <th>7</th>\n",
       "      <td>1169321_ClinicalRecord</td>\n",
       "      <td>Old</td>\n",
       "      <td>Male</td>\n",
       "      <td>No</td>\n",
       "    </tr>\n",
       "    <tr>\n",
       "      <th>9</th>\n",
       "      <td>816028_ClinicalRecord</td>\n",
       "      <td>Old</td>\n",
       "      <td>Female</td>\n",
       "      <td>No</td>\n",
       "    </tr>\n",
       "    <tr>\n",
       "      <th>...</th>\n",
       "      <td>...</td>\n",
       "      <td>...</td>\n",
       "      <td>...</td>\n",
       "      <td>...</td>\n",
       "    </tr>\n",
       "    <tr>\n",
       "      <th>1229</th>\n",
       "      <td>2492116_ClinicalRecord</td>\n",
       "      <td>Young</td>\n",
       "      <td>Male</td>\n",
       "      <td>No</td>\n",
       "    </tr>\n",
       "    <tr>\n",
       "      <th>1230</th>\n",
       "      <td>541088_ClinicalRecord</td>\n",
       "      <td>Young</td>\n",
       "      <td>Male</td>\n",
       "      <td>No</td>\n",
       "    </tr>\n",
       "    <tr>\n",
       "      <th>1235</th>\n",
       "      <td>2545879_ClinicalRecord</td>\n",
       "      <td>Young</td>\n",
       "      <td>Male</td>\n",
       "      <td>No</td>\n",
       "    </tr>\n",
       "    <tr>\n",
       "      <th>1238</th>\n",
       "      <td>839359_ClinicalRecord</td>\n",
       "      <td>Young</td>\n",
       "      <td>Male</td>\n",
       "      <td>No</td>\n",
       "    </tr>\n",
       "    <tr>\n",
       "      <th>1240</th>\n",
       "      <td>2755656_ClinicalRecord</td>\n",
       "      <td>Young</td>\n",
       "      <td>Male</td>\n",
       "      <td>No</td>\n",
       "    </tr>\n",
       "  </tbody>\n",
       "</table>\n",
       "<p>694 rows × 4 columns</p>\n",
       "</div>"
      ],
      "text/plain": [
       "              ClinicalRecord    Age  Gender Biomarker\n",
       "1      212473_ClinicalRecord    Old    Male        No\n",
       "2        3528_ClinicalRecord    Old  Female        No\n",
       "5      219778_ClinicalRecord    Old    Male        No\n",
       "7     1169321_ClinicalRecord    Old    Male        No\n",
       "9      816028_ClinicalRecord    Old  Female        No\n",
       "...                      ...    ...     ...       ...\n",
       "1229  2492116_ClinicalRecord  Young    Male        No\n",
       "1230   541088_ClinicalRecord  Young    Male        No\n",
       "1235  2545879_ClinicalRecord  Young    Male        No\n",
       "1238   839359_ClinicalRecord  Young    Male        No\n",
       "1240  2755656_ClinicalRecord  Young    Male        No\n",
       "\n",
       "[694 rows x 4 columns]"
      ]
     },
     "execution_count": 6,
     "metadata": {},
     "output_type": "execute_result"
    }
   ],
   "source": [
    "q_2 = \"\"\"    \n",
    "    select distinct ?ClinicalRecord ?Age ?Gender\n",
    "    where {\n",
    "        ?ClinicalRecord <http://research.tib.eu/p4-lucat/vocab/hasAgeCategory> ?Age .\n",
    "        ?ClinicalRecord <http://research.tib.eu/p4-lucat/vocab/hasGender> ?Gender .\n",
    "        }\n",
    "        \"\"\"\n",
    "df_1 = get_triples(g, q_2)\n",
    "non_biomarker = df_1.merge(biomarker, how = 'outer' , on=['ClinicalRecord', 'Age', 'Gender'],\n",
    "                           indicator=True).loc[lambda x : x['_merge']=='left_only'][['ClinicalRecord', 'Age', 'Gender']]\n",
    "non_biomarker['Biomarker'] = 'No'\n",
    "non_biomarker"
   ]
  },
  {
   "cell_type": "code",
   "execution_count": 7,
   "id": "a0006580",
   "metadata": {},
   "outputs": [
    {
     "data": {
      "text/html": [
       "<div>\n",
       "<style scoped>\n",
       "    .dataframe tbody tr th:only-of-type {\n",
       "        vertical-align: middle;\n",
       "    }\n",
       "\n",
       "    .dataframe tbody tr th {\n",
       "        vertical-align: top;\n",
       "    }\n",
       "\n",
       "    .dataframe thead th {\n",
       "        text-align: right;\n",
       "    }\n",
       "</style>\n",
       "<table border=\"1\" class=\"dataframe\">\n",
       "  <thead>\n",
       "    <tr style=\"text-align: right;\">\n",
       "      <th></th>\n",
       "      <th>ClinicalRecord</th>\n",
       "      <th>Age</th>\n",
       "      <th>Gender</th>\n",
       "      <th>Biomarker</th>\n",
       "      <th>Relapse</th>\n",
       "    </tr>\n",
       "  </thead>\n",
       "  <tbody>\n",
       "    <tr>\n",
       "      <th>0</th>\n",
       "      <td>2717319_ClinicalRecord</td>\n",
       "      <td>Old</td>\n",
       "      <td>Female</td>\n",
       "      <td>Yes</td>\n",
       "      <td>Relapse</td>\n",
       "    </tr>\n",
       "    <tr>\n",
       "      <th>1</th>\n",
       "      <td>2429612_ClinicalRecord</td>\n",
       "      <td>Old</td>\n",
       "      <td>Male</td>\n",
       "      <td>Yes</td>\n",
       "      <td>No relapse</td>\n",
       "    </tr>\n",
       "    <tr>\n",
       "      <th>2</th>\n",
       "      <td>2782768_ClinicalRecord</td>\n",
       "      <td>Old</td>\n",
       "      <td>Female</td>\n",
       "      <td>Yes</td>\n",
       "      <td>Relapse</td>\n",
       "    </tr>\n",
       "    <tr>\n",
       "      <th>3</th>\n",
       "      <td>2627112_ClinicalRecord</td>\n",
       "      <td>Old</td>\n",
       "      <td>Male</td>\n",
       "      <td>Yes</td>\n",
       "      <td>Relapse</td>\n",
       "    </tr>\n",
       "    <tr>\n",
       "      <th>4</th>\n",
       "      <td>989268_ClinicalRecord</td>\n",
       "      <td>Old</td>\n",
       "      <td>Male</td>\n",
       "      <td>Yes</td>\n",
       "      <td>Relapse</td>\n",
       "    </tr>\n",
       "    <tr>\n",
       "      <th>...</th>\n",
       "      <td>...</td>\n",
       "      <td>...</td>\n",
       "      <td>...</td>\n",
       "      <td>...</td>\n",
       "      <td>...</td>\n",
       "    </tr>\n",
       "    <tr>\n",
       "      <th>956</th>\n",
       "      <td>611660_ClinicalRecord</td>\n",
       "      <td>Young</td>\n",
       "      <td>Male</td>\n",
       "      <td>No</td>\n",
       "      <td>Relapse</td>\n",
       "    </tr>\n",
       "    <tr>\n",
       "      <th>957</th>\n",
       "      <td>2492116_ClinicalRecord</td>\n",
       "      <td>Young</td>\n",
       "      <td>Male</td>\n",
       "      <td>No</td>\n",
       "      <td>Relapse</td>\n",
       "    </tr>\n",
       "    <tr>\n",
       "      <th>958</th>\n",
       "      <td>541088_ClinicalRecord</td>\n",
       "      <td>Young</td>\n",
       "      <td>Male</td>\n",
       "      <td>No</td>\n",
       "      <td>Relapse</td>\n",
       "    </tr>\n",
       "    <tr>\n",
       "      <th>959</th>\n",
       "      <td>839359_ClinicalRecord</td>\n",
       "      <td>Young</td>\n",
       "      <td>Male</td>\n",
       "      <td>No</td>\n",
       "      <td>Relapse</td>\n",
       "    </tr>\n",
       "    <tr>\n",
       "      <th>960</th>\n",
       "      <td>2755656_ClinicalRecord</td>\n",
       "      <td>Young</td>\n",
       "      <td>Male</td>\n",
       "      <td>No</td>\n",
       "      <td>No relapse</td>\n",
       "    </tr>\n",
       "  </tbody>\n",
       "</table>\n",
       "<p>961 rows × 5 columns</p>\n",
       "</div>"
      ],
      "text/plain": [
       "             ClinicalRecord    Age  Gender Biomarker     Relapse\n",
       "0    2717319_ClinicalRecord    Old  Female       Yes     Relapse\n",
       "1    2429612_ClinicalRecord    Old    Male       Yes  No relapse\n",
       "2    2782768_ClinicalRecord    Old  Female       Yes     Relapse\n",
       "3    2627112_ClinicalRecord    Old    Male       Yes     Relapse\n",
       "4     989268_ClinicalRecord    Old    Male       Yes     Relapse\n",
       "..                      ...    ...     ...       ...         ...\n",
       "956   611660_ClinicalRecord  Young    Male        No     Relapse\n",
       "957  2492116_ClinicalRecord  Young    Male        No     Relapse\n",
       "958   541088_ClinicalRecord  Young    Male        No     Relapse\n",
       "959   839359_ClinicalRecord  Young    Male        No     Relapse\n",
       "960  2755656_ClinicalRecord  Young    Male        No  No relapse\n",
       "\n",
       "[961 rows x 5 columns]"
      ]
     },
     "execution_count": 7,
     "metadata": {},
     "output_type": "execute_result"
    }
   ],
   "source": [
    "data_corr = pd.concat([biomarker, non_biomarker])\n",
    "data_corr = pd.merge(data_corr, data_kg, on='ClinicalRecord')#[['Biomarker', 'Relapse', 'cluster']]\n",
    "data_corr"
   ]
  },
  {
   "cell_type": "code",
   "execution_count": 8,
   "id": "e3646cc2",
   "metadata": {},
   "outputs": [],
   "source": [
    "from ydata_profiling import ProfileReport"
   ]
  },
  {
   "cell_type": "code",
   "execution_count": 9,
   "id": "20d713f1",
   "metadata": {},
   "outputs": [],
   "source": [
    "profile = ProfileReport(data_corr, title=\"Profiling Report\")\n",
    "profile.to_file(output_file='output_v1.html')"
   ]
  },
  {
   "cell_type": "code",
   "execution_count": 10,
   "id": "d6f67fb2",
   "metadata": {},
   "outputs": [
    {
     "data": {
      "application/vnd.jupyter.widget-view+json": {
       "model_id": "c369b718e5c3460cbd58e5ec025c94a1",
       "version_major": 2,
       "version_minor": 0
      },
      "text/plain": [
       "Summarize dataset:   0%|          | 0/5 [00:00<?, ?it/s]"
      ]
     },
     "metadata": {},
     "output_type": "display_data"
    },
    {
     "data": {
      "application/vnd.jupyter.widget-view+json": {
       "model_id": "2f709e7c339d4a99be8917511e4b1f5f",
       "version_major": 2,
       "version_minor": 0
      },
      "text/plain": [
       "Generate report structure:   0%|          | 0/1 [00:00<?, ?it/s]"
      ]
     },
     "metadata": {},
     "output_type": "display_data"
    },
    {
     "data": {
      "application/vnd.jupyter.widget-view+json": {
       "model_id": "",
       "version_major": 2,
       "version_minor": 0
      },
      "text/plain": [
       "Render widgets:   0%|          | 0/1 [00:00<?, ?it/s]"
      ]
     },
     "metadata": {},
     "output_type": "display_data"
    },
    {
     "data": {
      "application/vnd.jupyter.widget-view+json": {
       "model_id": "8a07e51d6de64af39a77cafb65f923b8",
       "version_major": 2,
       "version_minor": 0
      },
      "text/plain": [
       "VBox(children=(Tab(children=(Tab(children=(GridBox(children=(VBox(children=(GridspecLayout(children=(HTML(valu…"
      ]
     },
     "metadata": {},
     "output_type": "display_data"
    }
   ],
   "source": [
    "profile.to_widgets()"
   ]
  },
  {
   "cell_type": "code",
   "execution_count": 9,
   "id": "c0746bb8",
   "metadata": {},
   "outputs": [
    {
     "data": {
      "text/plain": [
       "961"
      ]
     },
     "execution_count": 9,
     "metadata": {},
     "output_type": "execute_result"
    }
   ],
   "source": [
    "len(data_corr.ClinicalRecord.unique())"
   ]
  },
  {
   "cell_type": "code",
   "execution_count": 10,
   "id": "fee94209",
   "metadata": {},
   "outputs": [
    {
     "data": {
      "text/html": [
       "<div>\n",
       "<style scoped>\n",
       "    .dataframe tbody tr th:only-of-type {\n",
       "        vertical-align: middle;\n",
       "    }\n",
       "\n",
       "    .dataframe tbody tr th {\n",
       "        vertical-align: top;\n",
       "    }\n",
       "\n",
       "    .dataframe thead th {\n",
       "        text-align: right;\n",
       "    }\n",
       "</style>\n",
       "<table border=\"1\" class=\"dataframe\">\n",
       "  <thead>\n",
       "    <tr style=\"text-align: right;\">\n",
       "      <th></th>\n",
       "      <th>ClinicalRecord</th>\n",
       "      <th>Relapse_x</th>\n",
       "      <th>Age</th>\n",
       "      <th>Gender</th>\n",
       "      <th>Biomarker</th>\n",
       "      <th>Relapse_y</th>\n",
       "      <th>_merge</th>\n",
       "    </tr>\n",
       "  </thead>\n",
       "  <tbody>\n",
       "    <tr>\n",
       "      <th>80</th>\n",
       "      <td>1887213_ClinicalRecord</td>\n",
       "      <td>Relapse</td>\n",
       "      <td>NaN</td>\n",
       "      <td>NaN</td>\n",
       "      <td>NaN</td>\n",
       "      <td>NaN</td>\n",
       "      <td>left_only</td>\n",
       "    </tr>\n",
       "  </tbody>\n",
       "</table>\n",
       "</div>"
      ],
      "text/plain": [
       "            ClinicalRecord Relapse_x  Age Gender Biomarker Relapse_y  \\\n",
       "80  1887213_ClinicalRecord   Relapse  NaN    NaN       NaN       NaN   \n",
       "\n",
       "       _merge  \n",
       "80  left_only  "
      ]
     },
     "execution_count": 10,
     "metadata": {},
     "output_type": "execute_result"
    }
   ],
   "source": [
    "a = data_kg.merge(data_corr, how = 'outer' , on='ClinicalRecord', indicator=True).loc[lambda x : x['_merge']=='left_only']\n",
    "a"
   ]
  },
  {
   "cell_type": "code",
   "execution_count": 11,
   "id": "08c36e4a",
   "metadata": {},
   "outputs": [
    {
     "data": {
      "text/html": [
       "<div>\n",
       "<style scoped>\n",
       "    .dataframe tbody tr th:only-of-type {\n",
       "        vertical-align: middle;\n",
       "    }\n",
       "\n",
       "    .dataframe tbody tr th {\n",
       "        vertical-align: top;\n",
       "    }\n",
       "\n",
       "    .dataframe thead th {\n",
       "        text-align: right;\n",
       "    }\n",
       "</style>\n",
       "<table border=\"1\" class=\"dataframe\">\n",
       "  <thead>\n",
       "    <tr style=\"text-align: right;\">\n",
       "      <th></th>\n",
       "      <th>ClinicalRecord</th>\n",
       "      <th>Age</th>\n",
       "      <th>Gender</th>\n",
       "      <th>Biomarker</th>\n",
       "      <th>Relapse</th>\n",
       "    </tr>\n",
       "  </thead>\n",
       "  <tbody>\n",
       "  </tbody>\n",
       "</table>\n",
       "</div>"
      ],
      "text/plain": [
       "Empty DataFrame\n",
       "Columns: [ClinicalRecord, Age, Gender, Biomarker, Relapse]\n",
       "Index: []"
      ]
     },
     "execution_count": 11,
     "metadata": {},
     "output_type": "execute_result"
    }
   ],
   "source": [
    "data_corr.loc[data_corr.ClinicalRecord=='1887213_ClinicalRecord']"
   ]
  },
  {
   "cell_type": "code",
   "execution_count": null,
   "id": "5f8668e0",
   "metadata": {},
   "outputs": [],
   "source": []
  }
 ],
 "metadata": {
  "kernelspec": {
   "display_name": "Python 3 (ipykernel)",
   "language": "python",
   "name": "python3"
  },
  "language_info": {
   "codemirror_mode": {
    "name": "ipython",
    "version": 3
   },
   "file_extension": ".py",
   "mimetype": "text/x-python",
   "name": "python",
   "nbconvert_exporter": "python",
   "pygments_lexer": "ipython3",
   "version": "3.11.4"
  }
 },
 "nbformat": 4,
 "nbformat_minor": 5
}
