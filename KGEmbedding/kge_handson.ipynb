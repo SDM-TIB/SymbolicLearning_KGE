{
 "cells": [
  {
   "cell_type": "markdown",
   "source": [
    "# Tutorial on KGE models and Link Prediction"
   ],
   "metadata": {
    "collapsed": false
   },
   "id": "a9a211eadeb2fafb"
  },
  {
   "cell_type": "markdown",
   "source": [
    "### Overview: Welcome!!! Today we will play with KGE models like TransH or RotatE over the Lung Cancer KG. In Lung Cancer KG, a patient is described by medical characteristics such as smoking habit, cancer stage, mutation type, age, gender and occurence of relapse etc. Here, the task is to predict a patient with recommended drug or relapse condition."
   ],
   "metadata": {
    "collapsed": false
   },
   "id": "d2180111817a5c20"
  },
  {
   "cell_type": "markdown",
   "source": [
    "#### Install prerequistes and import necessary modules"
   ],
   "metadata": {
    "collapsed": false
   },
   "id": "4617df6d8d1276f8"
  },
  {
   "cell_type": "code",
   "outputs": [],
   "source": [
    "!git clone https://github.com/SDM-TIB/SymbolicLearning_KGE.git\n",
    "%cd SymbolicLearning_KGE/KGEmbedding"
   ],
   "metadata": {
    "collapsed": false
   },
   "id": "1343d54869640ae0"
  },
  {
   "cell_type": "code",
   "outputs": [],
   "source": [
    "!pip install pykeen"
   ],
   "metadata": {
    "collapsed": false
   },
   "id": "96560a8f992cec0d"
  },
  {
   "cell_type": "markdown",
   "source": [
    "#### Script for executing KGE models"
   ],
   "metadata": {
    "collapsed": false
   },
   "id": "18c717cc5117d3ca"
  },
  {
   "cell_type": "code",
   "outputs": [],
   "source": [
    "!python kge.py --dataset_path \"/content/SymbolicLearning_KGE/KG/OriginalKG/LungCancer.tsv\" --output_dir \"OriginalKG\" --results_path \"OriginalKG/\" --models TransH"
   ],
   "metadata": {
    "collapsed": false
   },
   "id": "b94de0cae7167d17"
  },
  {
   "cell_type": "markdown",
   "source": [
    "#### Script to predict the missing link, i.e., tail or head entity"
   ],
   "metadata": {
    "collapsed": false
   },
   "id": "3b425aa9e47ad15a"
  },
  {
   "cell_type": "code",
   "outputs": [],
   "source": [
    "!python link_prediction.py --results \"OriginalKG/\" --model_name \"TransH\" --head \"3561_Patient\" --relation \"hasRelapse_Progression\""
   ],
   "metadata": {
    "collapsed": false
   },
   "id": "71de7bb767b61a58"
  }
 ],
 "metadata": {
  "kernelspec": {
   "display_name": "Python 3",
   "language": "python",
   "name": "python3"
  },
  "language_info": {
   "codemirror_mode": {
    "name": "ipython",
    "version": 2
   },
   "file_extension": ".py",
   "mimetype": "text/x-python",
   "name": "python",
   "nbconvert_exporter": "python",
   "pygments_lexer": "ipython2",
   "version": "2.7.6"
  }
 },
 "nbformat": 4,
 "nbformat_minor": 5
}
